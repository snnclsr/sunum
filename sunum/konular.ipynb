{
 "cells": [
  {
   "cell_type": "markdown",
   "metadata": {},
   "source": [
    "### Python\n",
    "* String, integer, float\n",
    "* operators --> +, - , \\*, /, //,  %, \\**\n",
    "* mutable, immutable\n",
    "* list, set, tuple, dict\n",
    "* if, elif, else, break, continue\n",
    "* loops --> for, while\n",
    "* list comprehension\n",
    "* looping techniques --> list, dict\n",
    "* function, default arguments\n",
    "* lambda function\n",
    "* built-in --> enumerate, zip, sorted, reversed, range\n",
    "* files --> read, write\n",
    "* classes\n",
    "\n",
    "\n",
    "### Numpy\n",
    "\n",
    "* Array Olusturma\n",
    "* Array indeksleri ve slicing\n",
    "* Reshape\n",
    "* Array aritmetiği\n",
    "* Aggregation fonksiyonlar --> Min, Max, Sum vs.\n",
    "\n",
    "### Pandas\n",
    "* Titanik veri seti ile incelenecek.\n",
    "\n",
    "### Scikit-learn\n",
    "* Modeller\n",
    "* datasets\n",
    "* train_test_split\n",
    "* accuracy_score\n",
    "\n",
    "### Machine Learning\n",
    "** Supervised Learning **\n",
    "* Linear Regression (+)\n",
    "* Logistic Regression (+)\n",
    "* SVM (+)\n",
    "* KNN (+)\n",
    "* Naive Bayes (+)\n",
    "* Decision Tree (+)\n",
    "* Random Forest (+)\n",
    "\n",
    "** Unsupervised Learning **\n",
    "* K-means (+)"
   ]
  }
 ],
 "metadata": {
  "kernelspec": {
   "display_name": "Python 3",
   "language": "python",
   "name": "python3"
  },
  "language_info": {
   "codemirror_mode": {
    "name": "ipython",
    "version": 3
   },
   "file_extension": ".py",
   "mimetype": "text/x-python",
   "name": "python",
   "nbconvert_exporter": "python",
   "pygments_lexer": "ipython3",
   "version": "3.5.2"
  }
 },
 "nbformat": 4,
 "nbformat_minor": 2
}
